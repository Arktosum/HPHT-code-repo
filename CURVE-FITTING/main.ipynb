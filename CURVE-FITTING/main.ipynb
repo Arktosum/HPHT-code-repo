{
 "cells": [
  {
   "cell_type": "code",
   "execution_count": 2,
   "metadata": {},
   "outputs": [
    {
     "name": "stdout",
     "output_type": "stream",
     "text": [
      "Requirement already satisfied: scipy in c:\\users\\hp\\appdata\\local\\programs\\python\\python310\\lib\\site-packages (1.13.0)\n",
      "Requirement already satisfied: numpy<2.3,>=1.22.4 in c:\\users\\hp\\appdata\\local\\programs\\python\\python310\\lib\\site-packages (from scipy) (1.26.4)\n"
     ]
    }
   ],
   "source": [
    "!pip3 install scipy"
   ]
  },
  {
   "cell_type": "code",
   "execution_count": 3,
   "metadata": {},
   "outputs": [
    {
     "ename": "ModuleNotFoundError",
     "evalue": "No module named 'scipy'",
     "output_type": "error",
     "traceback": [
      "\u001b[1;31m---------------------------------------------------------------------------\u001b[0m",
      "\u001b[1;31mModuleNotFoundError\u001b[0m                       Traceback (most recent call last)",
      "Cell \u001b[1;32mIn[3], line 2\u001b[0m\n\u001b[0;32m      1\u001b[0m \u001b[38;5;28;01mimport\u001b[39;00m \u001b[38;5;21;01mnumpy\u001b[39;00m \u001b[38;5;28;01mas\u001b[39;00m \u001b[38;5;21;01mnp\u001b[39;00m\n\u001b[1;32m----> 2\u001b[0m \u001b[38;5;28;01mfrom\u001b[39;00m \u001b[38;5;21;01mscipy\u001b[39;00m\u001b[38;5;21;01m.\u001b[39;00m\u001b[38;5;21;01mintegrate\u001b[39;00m \u001b[38;5;28;01mimport\u001b[39;00m quad\n\u001b[0;32m      3\u001b[0m \u001b[38;5;28;01mfrom\u001b[39;00m \u001b[38;5;21;01mscipy\u001b[39;00m\u001b[38;5;21;01m.\u001b[39;00m\u001b[38;5;21;01moptimize\u001b[39;00m \u001b[38;5;28;01mimport\u001b[39;00m curve_fit\n\u001b[0;32m      4\u001b[0m \u001b[38;5;28;01mimport\u001b[39;00m \u001b[38;5;21;01mmatplotlib\u001b[39;00m\u001b[38;5;21;01m.\u001b[39;00m\u001b[38;5;21;01mpyplot\u001b[39;00m \u001b[38;5;28;01mas\u001b[39;00m \u001b[38;5;21;01mplt\u001b[39;00m\n",
      "\u001b[1;31mModuleNotFoundError\u001b[0m: No module named 'scipy'"
     ]
    }
   ],
   "source": [
    "import numpy as np\n",
    "from scipy.integrate import quad\n",
    "from scipy.optimize import curve_fit\n",
    "import matplotlib.pyplot as plt\n",
    "import pandas as pd"
   ]
  },
  {
   "cell_type": "code",
   "execution_count": null,
   "metadata": {},
   "outputs": [],
   "source": []
  },
  {
   "cell_type": "code",
   "execution_count": null,
   "metadata": {},
   "outputs": [],
   "source": [
    "\n",
    "def Ze(z):\n",
    "    value= z**5 / ((np.exp(z) - 1) * (1 - np.exp(-z)))\n",
    "    return value\n",
    "\n",
    "def I(T, d):\n",
    "    upper_limit = d / T\n",
    "    integral, _ = quad(Ze, 0, upper_limit)\n",
    "    return integral\n",
    "\n",
    "def p_T(T, p0, R, A, d):\n",
    "    P_ph_T = np.array([R * (T_i / d)**5 * I(T_i, d) for T_i in T])\n",
    "    return p0 + P_ph_T + A * T**3\n",
    "\n",
    "\n",
    "T_data = df['T']\n",
    "p_data = df['rho 0']\n",
    "\n",
    "MIN_MSE = float('inf')\n",
    "def USE_PROGRAM(T_data,p_data,initial_guesses):\n",
    "  global MIN_MSE\n",
    "  try:\n",
    "    popt, pcov = curve_fit(p_T, T_data, p_data, p0=initial_guesses)\n",
    "  except:\n",
    "    return\n",
    "  p0_fitted, R_fitted, A_fitted, d_fitted = popt\n",
    "\n",
    "  p_predicted = p_T(T_data, *popt)\n",
    "\n",
    "  mse = np.mean((p_data - p_predicted) ** 2)\n",
    "  if mse < MIN_MSE:\n",
    "    MIN_MSE = mse\n",
    "    print(initial_guesses,mse)\n",
    "\n",
    "\n",
    "\n",
    "from itertools import product\n",
    "# Define the set of values to choose from\n",
    "values = [1e-5,1e-4,1e-3,1e-2,1e-1,1e0,1e1,1e2,1e3,1e4,1e5]\n",
    "\n",
    "# Define the length of the permutations (e.g., 4 positions)\n",
    "length = 4\n",
    "\n",
    "# Generate all permutations with repetition\n",
    "perms = product(values, repeat=length)\n",
    "initial_guesses_list = list(perms)\n",
    "\n",
    "for i,guess in enumerate(initial_guesses_list):\n",
    "  print(f'Progress : {(i/11**4)*100}%')\n",
    "  USE_PROGRAM(T_data,p_data,guess)\n",
    "# print(f\"Fitted p0: {p0_fitted}\")\n",
    "# print(f\"Fitted R: {R_fitted}\")\n",
    "# print(f\"Fitted A: {A_fitted}\")\n",
    "# print(f\"Fitted d: {d_fitted}\")\n",
    "# print(f\"Mean Squared Error: {mse}\")\n",
    "\n",
    "# T_fit = T_data\n",
    "# p_fit = p_T(T_fit, *popt)\n",
    "\n",
    "# plt.figure()\n",
    "# plt.scatter(T_data, p_data, label='Data')\n",
    "# plt.scatter(T_fit, p_fit, label='Fitted')\n",
    "# plt.xlabel('T')\n",
    "# plt.ylabel('p(T)')\n",
    "# plt.legend()\n",
    "# plt.show()\n",
    "\n",
    "# Lowest - 2.1e-7\n",
    "# New lowest - 4e-8\n",
    "# Extreme lowest - 1.3e-9"
   ]
  }
 ],
 "metadata": {
  "kernelspec": {
   "display_name": "Python 3",
   "language": "python",
   "name": "python3"
  },
  "language_info": {
   "codemirror_mode": {
    "name": "ipython",
    "version": 3
   },
   "file_extension": ".py",
   "mimetype": "text/x-python",
   "name": "python",
   "nbconvert_exporter": "python",
   "pygments_lexer": "ipython3",
   "version": "3.12.4"
  }
 },
 "nbformat": 4,
 "nbformat_minor": 2
}
